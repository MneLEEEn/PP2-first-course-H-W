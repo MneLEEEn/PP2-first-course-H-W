{
 "cells": [
  {
   "cell_type": "code",
   "execution_count": 2,
   "metadata": {},
   "outputs": [
    {
     "name": "stdout",
     "output_type": "stream",
     "text": [
      "True\n",
      "False\n"
     ]
    }
   ],
   "source": [
    "import re\n",
    "\n",
    "def match_a_b(string):\n",
    "    return re.fullmatch(r'ab*', string) is not None\n",
    "\n",
    "print(match_a_b(\"abbb\"))\n",
    "print(match_a_b(\"abbc\"))"
   ]
  },
  {
   "cell_type": "code",
   "execution_count": 4,
   "metadata": {},
   "outputs": [
    {
     "name": "stdout",
     "output_type": "stream",
     "text": [
      "True\n",
      "True\n",
      "False\n",
      "False\n"
     ]
    }
   ],
   "source": [
    "def match_a_bbb(string):\n",
    "    return re.fullmatch(r'ab{2,3}', string) is not None\n",
    "\n",
    "print(match_a_bbb(\"abbb\"))\n",
    "print(match_a_bbb(\"abb\"))\n",
    "print(match_a_bbb(\"ab\"))\n",
    "print(match_a_bbb(\"abbbbbbbbbb\"))"
   ]
  },
  {
   "cell_type": "code",
   "execution_count": 7,
   "metadata": {},
   "outputs": [
    {
     "name": "stdout",
     "output_type": "stream",
     "text": [
      "['hsdrths_qewre', 'gsrg_shrth']\n"
     ]
    }
   ],
   "source": [
    "def find_lowund(string):\n",
    "    return re.findall(r'\\b[a-z]+_[a-z]+\\b', string)\n",
    "\n",
    "print(find_lowund(\"hsdrths_qewre gsrg_shrth\"))"
   ]
  },
  {
   "cell_type": "code",
   "execution_count": 11,
   "metadata": {},
   "outputs": [
    {
     "name": "stdout",
     "output_type": "stream",
     "text": [
      "['Hello', 'Worlddd', 'Deeeee']\n"
     ]
    }
   ],
   "source": [
    "def find_uplow(string):\n",
    "    return re.findall(r'[A-Z][a-z]+', string)\n",
    "\n",
    "print(find_uplow(\"HelloWorldddDeeeee\"))"
   ]
  },
  {
   "cell_type": "code",
   "execution_count": 13,
   "metadata": {},
   "outputs": [
    {
     "name": "stdout",
     "output_type": "stream",
     "text": [
      "True\n",
      "True\n",
      "False\n"
     ]
    }
   ],
   "source": [
    "def match_asmthb(string):\n",
    "    return re.fullmatch(r'a.*b', string) is not None\n",
    "\n",
    "print(match_asmthb(\"acraljngahebkauhb\"))\n",
    "print(match_asmthb(\"ab\"))\n",
    "print(match_asmthb(\"adfghjkl;\"))"
   ]
  },
  {
   "cell_type": "code",
   "execution_count": null,
   "metadata": {},
   "outputs": [
    {
     "name": "stdout",
     "output_type": "stream",
     "text": [
      "a:b:c:d:e:::!\n"
     ]
    }
   ],
   "source": [
    "def replace_colon(string):\n",
    "    return re.sub(r'[ ,.]', ':', string)\n",
    "\n",
    "print(replace_colon(\"a b c,d,e...!\"))"
   ]
  },
  {
   "cell_type": "code",
   "execution_count": 27,
   "metadata": {},
   "outputs": [
    {
     "data": {
      "text/plain": [
       "'thisIsSparta'"
      ]
     },
     "execution_count": 27,
     "metadata": {},
     "output_type": "execute_result"
    }
   ],
   "source": [
    "def snake_to_camel(string):\n",
    "    return re.sub(r'_(.)', lambda m: m.group(1).upper(), string)\n",
    "\n",
    "snake_to_camel(\"this_is_Sparta\")"
   ]
  },
  {
   "cell_type": "code",
   "execution_count": 20,
   "metadata": {},
   "outputs": [
    {
     "name": "stdout",
     "output_type": "stream",
     "text": [
      "['', 'Oke', 'Poke', 'Take']\n"
     ]
    }
   ],
   "source": [
    "def splitup(string):\n",
    "    return re.split(r'(?=[A-Z])', string)\n",
    "\n",
    "print(splitup(\"OkePokeTake\"))"
   ]
  },
  {
   "cell_type": "code",
   "execution_count": 24,
   "metadata": {},
   "outputs": [
    {
     "name": "stdout",
     "output_type": "stream",
     "text": [
      " Insert Spaces Between Words\n"
     ]
    }
   ],
   "source": [
    "def spaces_capital(string):\n",
    "    return re.sub(r'(?=[A-Z])', ' ', string)\n",
    "\n",
    "print(spaces_capital(\"InsertSpacesBetweenWords\"))"
   ]
  },
  {
   "cell_type": "code",
   "execution_count": 28,
   "metadata": {},
   "outputs": [
    {
     "name": "stdout",
     "output_type": "stream",
     "text": [
      "this_is_sparta\n"
     ]
    }
   ],
   "source": [
    "def camel_to_snake(string):\n",
    "    return re.sub(r'(?=[A-Z])', '_', string).lower()\n",
    "\n",
    "print(camel_to_snake(\"thisIsSparta\"))"
   ]
  }
 ],
 "metadata": {
  "kernelspec": {
   "display_name": "Python 3",
   "language": "python",
   "name": "python3"
  },
  "language_info": {
   "codemirror_mode": {
    "name": "ipython",
    "version": 3
   },
   "file_extension": ".py",
   "mimetype": "text/x-python",
   "name": "python",
   "nbconvert_exporter": "python",
   "pygments_lexer": "ipython3",
   "version": "3.11.4"
  }
 },
 "nbformat": 4,
 "nbformat_minor": 2
}
