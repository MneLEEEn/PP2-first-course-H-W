{
 "cells": [
  {
   "cell_type": "code",
   "execution_count": 1,
   "metadata": {},
   "outputs": [
    {
     "name": "stdout",
     "output_type": "stream",
     "text": [
      "Current Date: 2025-03-01 08:51:33.760735\n",
      "Date after subtracting 5 days: 2025-02-24 08:51:33.760735\n"
     ]
    }
   ],
   "source": [
    "import datetime\n",
    "\n",
    "date1 = datetime.datetime.today()\n",
    "date2 = date1 - datetime.timedelta(days=5)\n",
    "\n",
    "print(\"Current Date:\", date1)\n",
    "print(\"Date after subtracting 5 days:\", date2)\n"
   ]
  },
  {
   "cell_type": "code",
   "execution_count": 4,
   "metadata": {},
   "outputs": [
    {
     "name": "stdout",
     "output_type": "stream",
     "text": [
      "Today:  2025-03-01 08:32:51.805805\n",
      "Yesterday:  2025-02-28 08:32:51.805805\n",
      "Tomorrow:  2025-03-02 08:32:51.805805\n"
     ]
    }
   ],
   "source": [
    "import datetime\n",
    "\n",
    "today = datetime.datetime.today()\n",
    "yesterday = today - datetime.timedelta(days=1)\n",
    "tomorrow = today + datetime.timedelta(days=1)\n",
    "\n",
    "print(\"Today: \", today)\n",
    "print(\"Yesterday: \", yesterday)\n",
    "print(\"Tomorrow: \", tomorrow)\n"
   ]
  },
  {
   "cell_type": "code",
   "execution_count": 5,
   "metadata": {},
   "outputs": [
    {
     "name": "stdout",
     "output_type": "stream",
     "text": [
      "Today:  2025-03-01 08:38:46\n"
     ]
    }
   ],
   "source": [
    "import datetime\n",
    "\n",
    "today = datetime.datetime.now().replace(microsecond=0)\n",
    "\n",
    "print(\"Today: \", today)\n"
   ]
  },
  {
   "cell_type": "code",
   "execution_count": 7,
   "metadata": {},
   "outputs": [
    {
     "name": "stdout",
     "output_type": "stream",
     "text": [
      "Years diff 20\n",
      "Difference:  7171 days, 1:44:17.167734\n"
     ]
    }
   ],
   "source": [
    "import datetime\n",
    "\n",
    "today = datetime.datetime.now()\n",
    "someday = datetime.datetime(2005, 7, 13, 7, 0, 0)\n",
    "diff = today - someday\n",
    "diff_years = today.year - someday.year\n",
    "\n",
    "print(\"Years diff\", diff_years)\n",
    "print(\"Difference: \", diff)"
   ]
  },
  {
   "cell_type": "code",
   "execution_count": null,
   "metadata": {},
   "outputs": [],
   "source": []
  }
 ],
 "metadata": {
  "kernelspec": {
   "display_name": "Python 3",
   "language": "python",
   "name": "python3"
  },
  "language_info": {
   "codemirror_mode": {
    "name": "ipython",
    "version": 3
   },
   "file_extension": ".py",
   "mimetype": "text/x-python",
   "name": "python",
   "nbconvert_exporter": "python",
   "pygments_lexer": "ipython3",
   "version": "3.11.4"
  }
 },
 "nbformat": 4,
 "nbformat_minor": 2
}
