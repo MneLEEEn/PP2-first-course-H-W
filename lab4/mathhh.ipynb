{
 "cells": [
  {
   "cell_type": "code",
   "execution_count": null,
   "metadata": {},
   "outputs": [
    {
     "name": "stdout",
     "output_type": "stream",
     "text": [
      "Input: 15\n",
      "Output: 0.2617993877991494\n"
     ]
    }
   ],
   "source": [
    "import math\n",
    "\n",
    "def degrees_to_radians(degrees):\n",
    "    return degrees * (math.pi / 180)\n",
    "\n",
    "degree = 15\n",
    "radian = degrees_to_radians(degree)\n",
    "print(\"Input:\", degree)\n",
    "print(\"Output:\", round(radian, 6))"
   ]
  },
  {
   "cell_type": "code",
   "execution_count": 3,
   "metadata": {},
   "outputs": [
    {
     "name": "stdout",
     "output_type": "stream",
     "text": [
      "Expected Output: 27.5\n"
     ]
    }
   ],
   "source": [
    "def trapezoid_area(base1, base2, height):\n",
    "    return ((base1 + base2) * height) / 2\n",
    "\n",
    "height = 5\n",
    "base1 = 5\n",
    "base2 = 6\n",
    "\n",
    "area = trapezoid_area(base1, base2, height)\n",
    "print(\"Expected Output:\", area)"
   ]
  },
  {
   "cell_type": "code",
   "execution_count": 7,
   "metadata": {},
   "outputs": [
    {
     "name": "stdout",
     "output_type": "stream",
     "text": [
      "The area of the polygon is: 625\n"
     ]
    }
   ],
   "source": [
    "def polygon_area(n, s):\n",
    "    return (n * s**2) / (4 * math.tan(math.pi / n))\n",
    "\n",
    "n = 4  \n",
    "s = 25  \n",
    "\n",
    "area = polygon_area(n, s)\n",
    "print(\"The area of the polygon is:\", round(area))"
   ]
  },
  {
   "cell_type": "code",
   "execution_count": 10,
   "metadata": {},
   "outputs": [
    {
     "name": "stdout",
     "output_type": "stream",
     "text": [
      "Expected Output: 30\n"
     ]
    }
   ],
   "source": [
    "def parallelogram_area(base, height):\n",
    "    return base * height\n",
    "\n",
    "base = 5\n",
    "height = 6\n",
    "\n",
    "area = parallelogram_area(base, height)\n",
    "print(\"Expected Output:\", area)"
   ]
  },
  {
   "cell_type": "code",
   "execution_count": null,
   "metadata": {},
   "outputs": [],
   "source": []
  }
 ],
 "metadata": {
  "kernelspec": {
   "display_name": "Python 3",
   "language": "python",
   "name": "python3"
  },
  "language_info": {
   "codemirror_mode": {
    "name": "ipython",
    "version": 3
   },
   "file_extension": ".py",
   "mimetype": "text/x-python",
   "name": "python",
   "nbconvert_exporter": "python",
   "pygments_lexer": "ipython3",
   "version": "3.11.4"
  }
 },
 "nbformat": 4,
 "nbformat_minor": 2
}
